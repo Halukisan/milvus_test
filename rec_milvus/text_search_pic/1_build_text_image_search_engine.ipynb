{
 "cells": [
  {
   "cell_type": "markdown",
   "id": "41af95da",
   "metadata": {},
   "source": [
    "# 快速构建基于Milvus的文本-图像搜索引擎"
   ]
  },
  {
   "cell_type": "markdown",
   "id": "97a009a7",
   "metadata": {},
   "source": [
    "## 准备\n",
    "确保系统有GPU，并且python版本为3.10，当前不支持python3.12\n",
    "### 下载依赖"
   ]
  },
  {
   "cell_type": "code",
   "execution_count": 8,
   "id": "3986e8d7",
   "metadata": {},
   "outputs": [],
   "source": [
    "! python -m pip install -q towhee gradio opencv-python"
   ]
  },
  {
   "cell_type": "markdown",
   "id": "11ef6b1a",
   "metadata": {},
   "source": [
    "### 准备数据\n",
    "数据集包含100个图像类别，每个类别中包含10张图片。数据集可通过Github下载： [Github](https://github.com/towhee-io/examples/releases/download/data/reverse_image_search.zip). \n",
    "\n",
    "数据集包含如下三个部分：\n",
    "- **train**: 候选图片目录;\n",
    "- **test**: 测试图片目录;\n",
    "- **reverse_image_search.csv**: csv文件，每张图片包含： ***id***, ***path***,  ***label*** ;\n"
   ]
  },
  {
   "cell_type": "code",
   "execution_count": null,
   "id": "daf4abc2",
   "metadata": {},
   "outputs": [],
   "source": [
    "! curl -L https://github.com/towhee-io/examples/releases/download/data/reverse_image_search.zip -O\n",
    "! unzip -q -o reverse_image_search.zip"
   ]
  },
  {
   "cell_type": "code",
   "execution_count": null,
   "id": "490d1379",
   "metadata": {},
   "outputs": [],
   "source": [
    "import pandas as pd\n",
    "\n",
    "df = pd.read_csv('reverse_image_search.csv')\n",
    "df.head()"
   ]
  },
  {
   "cell_type": "markdown",
   "id": "2171f2e7",
   "metadata": {},
   "source": [
    "下面的fuction是作为text-image search的辅助\n",
    "- **read_images(results)**: 通过图片ID读入图片，返回图片列表;"
   ]
  },
  {
   "cell_type": "code",
   "execution_count": 10,
   "id": "dd1b0ef0",
   "metadata": {},
   "outputs": [],
   "source": [
    "import cv2\n",
    "from towhee.types.image import Image\n",
    "\n",
    "id_img = df.set_index('id')['path'].to_dict()\n",
    "def read_images(results):\n",
    "    imgs = []\n",
    "    for re in results:\n",
    "        path = id_img[re.id]\n",
    "        imgs.append(Image(cv2.imread(path), 'BGR'))\n",
    "    return imgs\n"
   ]
  },
  {
   "cell_type": "markdown",
   "id": "b3e98f62",
   "metadata": {},
   "source": [
    "### 创建Milvus链接\n",
    "\n",
    "为了防止版本冲突情况，确保grpcio的版本限制在如下的范围内，下面还引入了Milvus，是因为源码中没有启动Milvus，所以需要手动安装milvus然后启动milvus服务"
   ]
  },
  {
   "cell_type": "code",
   "execution_count": null,
   "id": "f36a6f77",
   "metadata": {},
   "outputs": [],
   "source": [
    "! pip install \"grpcio>=1.49.1,<=1.53.0\" pymilvus milvus"
   ]
  },
  {
   "cell_type": "markdown",
   "id": "d01e5531",
   "metadata": {},
   "source": [
    "如果你已经安装了pymilvus导致了版本冲突问题，请运行如下代码，重新安装pymilvus"
   ]
  },
  {
   "cell_type": "code",
   "execution_count": null,
   "id": "508662c8",
   "metadata": {},
   "outputs": [],
   "source": [
    "! pip uninstall pymilvus -y"
   ]
  },
  {
   "cell_type": "markdown",
   "id": "cc6de57b",
   "metadata": {},
   "source": [
    "现在创建一个 `text_image_search` 的milvus collection，使用 [L2 distance metric](https://milvus.io/docs/metric.md#Euclidean-distance-L2) 和 [IVF_FLAT index](https://milvus.io/docs/index.md#IVF_FLAT)索引."
   ]
  },
  {
   "cell_type": "code",
   "execution_count": null,
   "id": "ac5d01dc",
   "metadata": {},
   "outputs": [],
   "source": [
    "from milvus import default_server  \n",
    "default_server.start()  "
   ]
  },
  {
   "cell_type": "code",
   "execution_count": null,
   "id": "09b28770",
   "metadata": {},
   "outputs": [],
   "source": [
    "from pymilvus import connections, FieldSchema, CollectionSchema, DataType, Collection, utility\n",
    "\n",
    "def create_milvus_collection(collection_name, dim):\n",
    "    connections.connect(\"default\",host='localhost', port='19530')\n",
    "    \n",
    "    if utility.has_collection(collection_name):\n",
    "        utility.drop_collection(collection_name)\n",
    "    \n",
    "    fields = [\n",
    "    FieldSchema(name='id', dtype=DataType.INT64, descrition='ids', is_primary=True, auto_id=False),\n",
    "    FieldSchema(name='embedding', dtype=DataType.FLOAT_VECTOR, descrition='embedding vectors', dim=dim)\n",
    "    ]\n",
    "    schema = CollectionSchema(fields=fields, description='text image search')\n",
    "    collection = Collection(name=collection_name, schema=schema)\n",
    "\n",
    "    # 为集合创建 IVF_FLAT 索引.\n",
    "    index_params = {\n",
    "        'metric_type':'L2',\n",
    "        'index_type':\"IVF_FLAT\",\n",
    "        'params':{\"nlist\":512}\n",
    "    }\n",
    "    collection.create_index(field_name=\"embedding\", index_params=index_params)\n",
    "    return collection\n",
    "\n",
    "collection = create_milvus_collection('text_image_search', 512)"
   ]
  },
  {
   "cell_type": "markdown",
   "id": "a30aa33c",
   "metadata": {},
   "source": [
    "## Text Image Search\n",
    "\n",
    "使用 [Towhee](https://towhee.io/), 建立一个文本图像搜索引擎。\n",
    "\n",
    "<img src=\"./workflow.png\" width = \"60%\" height = \"60%\" align=center />"
   ]
  },
  {
   "cell_type": "markdown",
   "id": "7ee02951",
   "metadata": {},
   "source": [
    "### 使用CLIP模型对文本和图片进行向量化\n"
   ]
  },
  {
   "cell_type": "markdown",
   "id": "eefdd5e5",
   "metadata": {},
   "source": [
    "使用 [CLIP](https://openai.com/blog/clip/) 提取图像或文本的特征，该模型能够通过联合训练图像编码器和文本编码器来最大化余弦相似度，从而生成文本和图像的嵌入表示。"
   ]
  },
  {
   "cell_type": "code",
   "execution_count": null,
   "id": "738824ba",
   "metadata": {},
   "outputs": [],
   "source": [
    "from towhee import ops, pipe, DataCollection\n",
    "import numpy as np"
   ]
  },
  {
   "cell_type": "markdown",
   "id": "7f9179b0",
   "metadata": {},
   "source": [
    "### 从魔搭社区下载模型\n",
    "下面的两段代码是从魔搭社区下载模型，建议自己手动下载clip-vit-base-patch16，放到model文件夹下"
   ]
  },
  {
   "cell_type": "code",
   "execution_count": null,
   "id": "1410b36c",
   "metadata": {},
   "outputs": [],
   "source": [
    "! pip install modelscope\n",
    "! modelscope download --model openai-mirror/clip-vit-base-patch16 --local_dir /model"
   ]
  },
  {
   "cell_type": "code",
   "execution_count": null,
   "id": "63f057b1",
   "metadata": {},
   "outputs": [],
   "source": [
    "p = (\n",
    "    pipe.input('path')\n",
    "    .map('path', 'img', ops.image_decode.cv2('rgb'))\n",
    "    .map('img', 'vec', ops.image_text_embedding.clip(model_name='model', modality='image'))\n",
    "    .map('vec', 'vec', lambda x: x / np.linalg.norm(x))\n",
    "    .output('img', 'vec')\n",
    ")\n",
    "# DataCollection(p('./teddy.png')).show()"
   ]
  },
  {
   "cell_type": "code",
   "execution_count": null,
   "id": "bdbea7e6",
   "metadata": {},
   "outputs": [],
   "source": [
    "p2 = (\n",
    "    pipe.input('text')\n",
    "    .map('text', 'vec', ops.image_text_embedding.clip(model_name='model', modality='text'))\n",
    "    .map('vec', 'vec', lambda x: x / np.linalg.norm(x))\n",
    "    .output('text', 'vec')\n",
    ")\n",
    "\n",
    "# DataCollection(p2(\"A teddybear on a skateboard in Times Square.\")).show()"
   ]
  },
  {
   "cell_type": "markdown",
   "id": "cd931463",
   "metadata": {},
   "source": [
    "下面是代码释意:\n",
    "\n",
    "- `map('path', 'img', ops.image_decode.cv2_rgb('rgb'))`: 对于数据的每一行, 读取并且decode `path`下的数据然后放到 `img`中;\n",
    "\n",
    "- `map('img', 'vec', ops.image_text_embedding.clip(model_name='model', modality='image'/'text'))`：使用 `ops.image_text_embedding.clip` 提取图像或文本的嵌入特征，该操作符来自 [Towhee hub](https://towhee.io/image-text-embedding/clip)。此操作符支持多种模型，包括 `clip_vit_base_patch16`、`clip_vit_base_patch32`、`clip_vit_large_patch14`、`clip_vit_large_patch14_336` 等。"
   ]
  },
  {
   "cell_type": "markdown",
   "id": "61433908",
   "metadata": {},
   "source": [
    "### 将图片向量数据导入Milvus中\n",
    "\n",
    "我们首先将已经由 `clip_vit_base_patch16` 模型处理好的图片向量化数据插入Milvus中用于后面的检索。 Towhee 提供了[method-chaining style API](https://towhee.readthedocs.io/en/main/index.html) 因此，用户可以使用这些操作符组装一个数据处理管道。这意味着用户可以根据自己的需求，将不同的操作符（如图像和文本嵌入提取操作符）组合起来，创建复杂的数据处理流程，以实现特定的功能或任务。例如，在图像检索、文本匹配或其他涉及多模态数据处理的应用场景中，通过这种方式可以灵活地构建解决方案。"
   ]
  },
  {
   "cell_type": "code",
   "execution_count": null,
   "id": "0c70df43",
   "metadata": {
    "scrolled": true
   },
   "outputs": [],
   "source": [
    "collection = create_milvus_collection('text_image_search', 512)\n",
    "\n",
    "def read_csv(csv_path, encoding='utf-8-sig'):\n",
    "    import csv\n",
    "    with open(csv_path, 'r', encoding=encoding) as f:\n",
    "        data = csv.DictReader(f)\n",
    "        for line in data:\n",
    "            yield int(line['id']), line['path']\n",
    "\n",
    "p3 = (\n",
    "    pipe.input('csv_file')\n",
    "    .flat_map('csv_file', ('id', 'path'), read_csv)\n",
    "    .map('path', 'img', ops.image_decode.cv2('rgb'))\n",
    "    .map('img', 'vec', ops.image_text_embedding.clip(model_name='model', modality='image', device=0))\n",
    "    .map('vec', 'vec', lambda x: x / np.linalg.norm(x))\n",
    "    .map(('id', 'vec'), (), ops.ann_insert.milvus_client(host='127.0.0.1', port='19530', collection_name='text_image_search'))\n",
    "    .output()\n",
    ")\n",
    "\n",
    "ret = p3('reverse_image_search.csv')\n"
   ]
  },
  {
   "cell_type": "code",
   "execution_count": 11,
   "id": "471627b2",
   "metadata": {},
   "outputs": [],
   "source": [
    "collection.load()"
   ]
  },
  {
   "cell_type": "code",
   "execution_count": 12,
   "id": "0c27fb6c",
   "metadata": {},
   "outputs": [
    {
     "name": "stdout",
     "output_type": "stream",
     "text": [
      "Total number of inserted data is 0.\n"
     ]
    }
   ],
   "source": [
    "print('Total number of inserted data is {}.'.format(collection.num_entities))"
   ]
  },
  {
   "cell_type": "markdown",
   "id": "d1b1538a",
   "metadata": {},
   "source": [
    "### 开始向量化检索"
   ]
  },
  {
   "cell_type": "markdown",
   "id": "4029abe0",
   "metadata": {},
   "source": [
    "现在，候选图像的嵌入向量已经插入到 Milvus 中，我们可以对其进行最近邻查询。同样，我们使用 Towhee 来加载输入文本、计算嵌入向量，并将该向量作为 Milvus 的查询条件。由于 Milvus 仅返回图像 ID 和距离值，我们提供了一个 `read_images` 函数，根据 ID 获取原始图像并进行展示。"
   ]
  },
  {
   "cell_type": "code",
   "execution_count": null,
   "id": "02483f5a",
   "metadata": {
    "scrolled": false
   },
   "outputs": [],
   "source": [
    "import pandas as pd\n",
    "import cv2\n",
    "\n",
    "def read_image(image_ids):\n",
    "    df = pd.read_csv('reverse_image_search.csv')\n",
    "    id_img = df.set_index('id')['path'].to_dict()\n",
    "    imgs = []\n",
    "    decode = ops.image_decode.cv2('rgb')\n",
    "    for image_id in image_ids:\n",
    "        path = id_img[image_id]\n",
    "        imgs.append(decode(path))\n",
    "    return imgs\n",
    "\n",
    "\n",
    "p4 = (\n",
    "    pipe.input('text')\n",
    "    .map('text', 'vec', ops.image_text_embedding.clip(model_name='model', modality='text'))\n",
    "    .map('vec', 'vec', lambda x: x / np.linalg.norm(x))\n",
    "    .map('vec', 'result', ops.ann_search.milvus_client(host='127.0.0.1', port='19530', collection_name='text_image_search', limit=5))\n",
    "    .map('result', 'image_ids', lambda x: [item[0] for item in x])\n",
    "    .map('image_ids', 'images', read_image)\n",
    "    .output('text', 'images')\n",
    ")\n",
    "\n",
    "DataCollection(p4(\"A white dog\")).show()\n",
    "DataCollection(p4(\"A black dog\")).show()"
   ]
  },
  {
   "cell_type": "markdown",
   "id": "df6f54b8",
   "metadata": {},
   "source": [
    "## 使用Gradio构建一个应用"
   ]
  },
  {
   "cell_type": "code",
   "execution_count": null,
   "id": "c63fb53b",
   "metadata": {},
   "outputs": [],
   "source": [
    "search_pipeline = (\n",
    "    pipe.input('text')\n",
    "    .map('text', 'vec', ops.image_text_embedding.clip(model_name='model', modality='text'))\n",
    "    .map('vec', 'vec', lambda x: x / np.linalg.norm(x))\n",
    "    .map('vec', 'result', ops.ann_search.milvus_client(host='127.0.0.1', port='19530', collection_name='text_image_search', limit=5))\n",
    "    .map('result', 'image_ids', lambda x: [item[0] for item in x])\n",
    "    .output('image_ids')\n",
    ")\n",
    "\n",
    "def search(text):\n",
    "    df = pd.read_csv('reverse_image_search.csv')\n",
    "    id_img = df.set_index('id')['path'].to_dict()\n",
    "    imgs = []\n",
    "    image_ids = search_pipeline(text).to_list()[0][0]\n",
    "    return [id_img[image_id] for image_id in image_ids]\n"
   ]
  },
  {
   "cell_type": "markdown",
   "id": "71478a43",
   "metadata": {},
   "source": [
    "在高版本的gradio中，已经不支持gradio.inputs.xxx和gradio.outputs.xxx，可直接使用gradio.TextBox或者gradio.Image\n",
    "你可以使用如下代码更新一下你的gradio"
   ]
  },
  {
   "cell_type": "code",
   "execution_count": null,
   "id": "9fefb027",
   "metadata": {},
   "outputs": [],
   "source": [
    "! pip install --upgrade gradio"
   ]
  },
  {
   "cell_type": "code",
   "execution_count": null,
   "id": "5204bce3",
   "metadata": {},
   "outputs": [],
   "source": [
    "import gradio\n",
    "\n",
    "interface = gradio.Interface(search, \n",
    "                             gradio.Textbox(lines=1),\n",
    "                             [gradio.Image(type=\"filepath\", label=None) for _ in range(5)]\n",
    "                            )\n",
    "\n",
    "interface.launch(inline=True, share=True)"
   ]
  }
 ],
 "metadata": {
  "kernelspec": {
   "display_name": "Python 3",
   "language": "python",
   "name": "python3"
  },
  "language_info": {
   "codemirror_mode": {
    "name": "ipython",
    "version": 3
   },
   "file_extension": ".py",
   "mimetype": "text/x-python",
   "name": "python",
   "nbconvert_exporter": "python",
   "pygments_lexer": "ipython3",
   "version": "3.12.3"
  }
 },
 "nbformat": 4,
 "nbformat_minor": 5
}
